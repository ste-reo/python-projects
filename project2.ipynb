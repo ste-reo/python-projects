{
 "cells": [
  {
   "cell_type": "code",
   "execution_count": 7,
   "id": "29798939",
   "metadata": {
    "scrolled": true
   },
   "outputs": [],
   "source": [
    "grocery_items = []\n",
    "\n",
    "def add_item():\n",
    "    name = input(\"Enter item name: \")\n",
    "    quantity = input(\"Enter item quantity: \")\n",
    "    price = input(\"Enter item price: \")\n",
    "    grocery_items.append({\"name\": name, \"quantity\": quantity, \"price\": price})\n",
    "    print(\"Item added successfully!\")\n",
    "\n",
    "def display_items():\n",
    "    print(\"Grocery Items:\")\n",
    "    if not grocery_items:\n",
    "        print(\"No items found.\")\n",
    "    else:\n",
    "        for item in grocery_items:\n",
    "            print(f\"Name: {item['name']}, Quantity: {item['quantity']}, Price: {item['price']}\")\n",
    "        print()\n",
    "\n",
    "def search_item():\n",
    "    name = input(\"Enter item name to search: \")\n",
    "    found = False\n",
    "    for item in grocery_items:\n",
    "        if item['name'] == name:\n",
    "            print(f\"Item found - Name: {item['name']}, Quantity: {item['quantity']}, Price: {item['price']}\")\n",
    "            found = True\n",
    "            break\n",
    "    if not found:\n",
    "        print(\"Item not found.\")\n",
    "\n",
    "def menu():\n",
    "    print(\"Welcome to the Grocery Items Program!\")\n",
    "    while True:\n",
    "        print(\"Menu:\")\n",
    "        print(\"1. Add Item\")\n",
    "        print(\"2. Display Items\")\n",
    "        print(\"3. Search Item\")\n",
    "       \n"
   ]
  },
  {
   "cell_type": "code",
   "execution_count": null,
   "id": "000d6d99",
   "metadata": {},
   "outputs": [],
   "source": []
  },
  {
   "cell_type": "code",
   "execution_count": null,
   "id": "249442da",
   "metadata": {},
   "outputs": [],
   "source": []
  }
 ],
 "metadata": {
  "kernelspec": {
   "display_name": "Python 3 (ipykernel)",
   "language": "python",
   "name": "python3"
  },
  "language_info": {
   "codemirror_mode": {
    "name": "ipython",
    "version": 3
   },
   "file_extension": ".py",
   "mimetype": "text/x-python",
   "name": "python",
   "nbconvert_exporter": "python",
   "pygments_lexer": "ipython3",
   "version": "3.11.5"
  }
 },
 "nbformat": 4,
 "nbformat_minor": 5
}
