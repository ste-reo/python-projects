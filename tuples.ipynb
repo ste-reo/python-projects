{
 "cells": [
  {
   "cell_type": "code",
   "execution_count": 10,
   "id": "2f5cf5ff",
   "metadata": {},
   "outputs": [],
   "source": [
    "#immutable sequence data types\n",
    "y = (\"femi\", \"deji\", \"feyi\")\n",
    "z = (\"tundex\", \"bolu\")\n",
    "q = \"lol\" in y"
   ]
  },
  {
   "cell_type": "code",
   "execution_count": 11,
   "id": "d4b20e1e",
   "metadata": {
    "scrolled": true
   },
   "outputs": [
    {
     "name": "stdout",
     "output_type": "stream",
     "text": [
      "femi\n",
      "deji\n",
      "feyi\n",
      "False\n"
     ]
    }
   ],
   "source": [
    "print (y[0])\n",
    "print (y[1])\n",
    "print (y[2])\n",
    "len (y)\n",
    "print (q)\n"
   ]
  },
  {
   "cell_type": "code",
   "execution_count": 12,
   "id": "01567f1b",
   "metadata": {},
   "outputs": [],
   "source": [
    "dlist = [1,2,3,4,5,6,7,8,9]\n",
    "\n",
    "dtpl = tuple(dlist)\n",
    "\n"
   ]
  },
  {
   "cell_type": "code",
   "execution_count": 14,
   "id": "46fbdf70",
   "metadata": {
    "scrolled": true
   },
   "outputs": [
    {
     "name": "stdout",
     "output_type": "stream",
     "text": [
      "['bread', 'sugar', 'milo']\n"
     ]
    }
   ],
   "source": [
    "listed = (\"milk\", \"sugar\", \"milo\")\n",
    "#change to a list\n",
    "nlisted = list (listed)\n",
    "nlisted[0] = \"bread\"\n",
    "print (nlisted)\n"
   ]
  },
  {
   "cell_type": "code",
   "execution_count": null,
   "id": "106652ca",
   "metadata": {},
   "outputs": [],
   "source": []
  }
 ],
 "metadata": {
  "kernelspec": {
   "display_name": "Python 3 (ipykernel)",
   "language": "python",
   "name": "python3"
  },
  "language_info": {
   "codemirror_mode": {
    "name": "ipython",
    "version": 3
   },
   "file_extension": ".py",
   "mimetype": "text/x-python",
   "name": "python",
   "nbconvert_exporter": "python",
   "pygments_lexer": "ipython3",
   "version": "3.11.3"
  }
 },
 "nbformat": 4,
 "nbformat_minor": 5
}
