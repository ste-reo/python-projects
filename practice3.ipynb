{
 "cells": [
  {
   "cell_type": "code",
   "execution_count": 5,
   "id": "0c609981",
   "metadata": {},
   "outputs": [
    {
     "name": "stdout",
     "output_type": "stream",
     "text": [
      "7\n"
     ]
    }
   ],
   "source": [
    "x = \"i like apples, apples are good\"\n",
    "y = x.find(\"apple\")\n",
    "print (y)"
   ]
  },
  {
   "cell_type": "code",
   "execution_count": 9,
   "id": "9b696759",
   "metadata": {},
   "outputs": [
    {
     "name": "stdout",
     "output_type": "stream",
     "text": [
      "whats your name? Victor Iyunade\n",
      "your email address is? victoriyunade@gmail.com\n",
      "welcome Victor Iyunade, a mail has been sent to victoriyunade@gmail.com kindly check\n"
     ]
    }
   ],
   "source": [
    "name = input(\"whats your name? \")\n",
    "email = input(\"your email address is? \")\n",
    "txt = (\"welcome {}, a mail has been sent to {} kindly check\")\n",
    "word = txt.format(name, email)\n",
    "print (word)"
   ]
  },
  {
   "cell_type": "code",
   "execution_count": 12,
   "id": "e0661740",
   "metadata": {},
   "outputs": [
    {
     "name": "stdout",
     "output_type": "stream",
     "text": [
      "0\n"
     ]
    }
   ],
   "source": [
    "strx =  \"apples are lovely lovely. i can make apples cream\"\n",
    "z = strx.index (\"apples\")\n",
    "print (z)"
   ]
  },
  {
   "cell_type": "code",
   "execution_count": null,
   "id": "98fdfce9",
   "metadata": {},
   "outputs": [],
   "source": [
    "a = \"12345\"\n",
    "b = \"abcde\"\n",
    "c = \"abd12345\"\n",
    "d = \"1 5\"\n",
    "e = \"ab 123\"\n"
   ]
  }
 ],
 "metadata": {
  "kernelspec": {
   "display_name": "Python 3 (ipykernel)",
   "language": "python",
   "name": "python3"
  },
  "language_info": {
   "codemirror_mode": {
    "name": "ipython",
    "version": 3
   },
   "file_extension": ".py",
   "mimetype": "text/x-python",
   "name": "python",
   "nbconvert_exporter": "python",
   "pygments_lexer": "ipython3",
   "version": "3.11.5"
  }
 },
 "nbformat": 4,
 "nbformat_minor": 5
}
