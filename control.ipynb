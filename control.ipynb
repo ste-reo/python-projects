{
 "cells": [
  {
   "cell_type": "code",
   "execution_count": 1,
   "id": "01ad3df6",
   "metadata": {},
   "outputs": [
    {
     "name": "stdout",
     "output_type": "stream",
     "text": [
      "Please enter your email address:     .@   .com\n",
      "Valid email address:     .@   .com\n"
     ]
    }
   ],
   "source": [
    "while True:\n",
    "    email = input(\"Please enter your email address: \")\n",
    "    if \"@\" in email and \".\" in email:\n",
    "        print(\"Valid email address:\", email)\n",
    "        break\n",
    "    else:\n",
    "        print(\"Invalid email address\")"
   ]
  },
  {
   "cell_type": "code",
   "execution_count": null,
   "id": "d3fd697e",
   "metadata": {},
   "outputs": [],
   "source": []
  }
 ],
 "metadata": {
  "kernelspec": {
   "display_name": "Python 3 (ipykernel)",
   "language": "python",
   "name": "python3"
  },
  "language_info": {
   "codemirror_mode": {
    "name": "ipython",
    "version": 3
   },
   "file_extension": ".py",
   "mimetype": "text/x-python",
   "name": "python",
   "nbconvert_exporter": "python",
   "pygments_lexer": "ipython3",
   "version": "3.11.5"
  }
 },
 "nbformat": 4,
 "nbformat_minor": 5
}
