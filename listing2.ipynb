{
 "cells": [
  {
   "cell_type": "code",
   "execution_count": 23,
   "id": "7e8a3f6d",
   "metadata": {},
   "outputs": [
    {
     "name": "stdout",
     "output_type": "stream",
     "text": [
      "['milk', 'sugar', 'butter']\n",
      "sugar\n"
     ]
    }
   ],
   "source": [
    "#creating lists using \n",
    "items=[\"milk\", \"sugar\", \"butter\"]\n",
    "print(items)\n",
    "print (items[1])\n"
   ]
  },
  {
   "cell_type": "code",
   "execution_count": 36,
   "id": "faf32e50",
   "metadata": {},
   "outputs": [
    {
     "name": "stdout",
     "output_type": "stream",
     "text": [
      "['milk', 'bread', 'butter', 'ice', ['coffe', 'milk'], 'ice', ['coffe', 'milk'], 'coffe', 'milk', 'ice', 'coffe', 'milk', ['coffe', 'milk'], 'ice', 'coffe', 'milk', ['coffe', 'milk'], 'ice', 'coffe', 'milk', ['coffe', 'milk'], 'ice', ['coffe', 'milk'], 'coffe', 'milk', 'ice', ['coffe', 'milk'], 'coffe', 'milk', 'ice', ['coffe', 'milk'], 'ice', ['coffe', 'milk'], 'coffe', 'milk']\n",
      "['milk', 'bread', 'butter', 'ice', ['coffe', 'milk'], 'ice', ['coffe', 'milk'], 'coffe', 'milk', 'ice', 'coffe', 'milk', ['coffe', 'milk'], 'ice', 'coffe', 'milk', ['coffe', 'milk'], 'ice', 'coffe', 'milk', ['coffe', 'milk'], 'ice', ['coffe', 'milk'], 'coffe', 'milk', 'ice', ['coffe', 'milk'], 'coffe', 'milk', 'ice', ['coffe', 'milk'], 'ice', ['coffe', 'milk'], 'coffe', 'milk']\n",
      "['milk', 'bread', 'butter', 'ice', ['coffe', 'milk'], 'ice', ['coffe', 'milk'], 'coffe', 'milk', 'ice', 'coffe', 'milk', ['coffe', 'milk'], 'ice', 'coffe', 'milk', ['coffe', 'milk'], 'ice', 'coffe', 'milk', ['coffe', 'milk'], 'ice', ['coffe', 'milk'], 'coffe', 'milk', 'ice', ['coffe', 'milk'], 'coffe', 'milk', 'ice', ['coffe', 'milk'], 'ice', ['coffe', 'milk'], 'coffe', 'milk', 'ice']\n",
      "['milk', 'bread', 'butter', 'ice', ['coffe', 'milk'], 'ice', ['coffe', 'milk'], 'coffe', 'milk', 'ice', 'coffe', 'milk', ['coffe', 'milk'], 'ice', 'coffe', 'milk', ['coffe', 'milk'], 'ice', 'coffe', 'milk', ['coffe', 'milk'], 'ice', ['coffe', 'milk'], 'coffe', 'milk', 'ice', ['coffe', 'milk'], 'coffe', 'milk', 'ice', ['coffe', 'milk'], 'ice', ['coffe', 'milk'], 'coffe', 'milk', 'ice', ['coffe', 'milk']]\n",
      "['milk', 'bread', 'butter', 'ice', ['coffe', 'milk'], 'ice', ['coffe', 'milk'], 'coffe', 'milk', 'ice', 'coffe', 'milk', ['coffe', 'milk'], 'ice', 'coffe', 'milk', ['coffe', 'milk'], 'ice', 'coffe', 'milk', ['coffe', 'milk'], 'ice', ['coffe', 'milk'], 'coffe', 'milk', 'ice', ['coffe', 'milk'], 'coffe', 'milk', 'ice', ['coffe', 'milk'], 'ice', ['coffe', 'milk'], 'coffe', 'milk', 'ice', ['coffe', 'milk'], 'coffe', 'milk']\n"
     ]
    }
   ],
   "source": [
    "print (items)\n",
    "items[1]= \"bread\"\n",
    "print (items)\n",
    "#append adds to the set of the items\"adds in units\"\n",
    "items.append(\"ice\")\n",
    "print (items)\n",
    "#adding a set of items to the list note: append would add as string so use extend\n",
    "newitems=[\"coffe\", \"milk\"]\n",
    "items.append(newitems)\n",
    "print (items)\n",
    "items.extend(newitems)\n",
    "print (items)"
   ]
  },
  {
   "cell_type": "code",
   "execution_count": 22,
   "id": "c16593c0",
   "metadata": {},
   "outputs": [
    {
     "name": "stdout",
     "output_type": "stream",
     "text": [
      "range(0, 50)\n",
      "[0, 1, 2, 3, 4, 5, 6, 7, 8, 9, 10, 11, 12, 13, 14, 15, 16, 17, 18, 19, 20, 21, 22, 23, 24, 25, 26, 27, 28, 29, 30, 31, 32, 33, 34, 35, 36, 37, 38, 39, 40, 41, 42, 43, 44, 45, 46, 47, 48, 49]\n",
      "50\n"
     ]
    }
   ],
   "source": [
    "#creating list using xitem = list()\n",
    "xitem=list()\n",
    "y=range(0,50)\n",
    "print (y)\n",
    "print (list(y))\n",
    "#finding tottal number of items in a list\n",
    "t=len(y)\n",
    "print(t)\n"
   ]
  },
  {
   "cell_type": "code",
   "execution_count": null,
   "id": "831422fb",
   "metadata": {},
   "outputs": [],
   "source": []
  },
  {
   "cell_type": "code",
   "execution_count": null,
   "id": "31bc6285",
   "metadata": {},
   "outputs": [],
   "source": []
  }
 ],
 "metadata": {
  "kernelspec": {
   "display_name": "Python 3 (ipykernel)",
   "language": "python",
   "name": "python3"
  },
  "language_info": {
   "codemirror_mode": {
    "name": "ipython",
    "version": 3
   },
   "file_extension": ".py",
   "mimetype": "text/x-python",
   "name": "python",
   "nbconvert_exporter": "python",
   "pygments_lexer": "ipython3",
   "version": "3.11.5"
  }
 },
 "nbformat": 4,
 "nbformat_minor": 5
}
