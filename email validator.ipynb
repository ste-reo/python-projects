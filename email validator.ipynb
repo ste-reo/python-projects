{
 "cells": [
  {
   "cell_type": "code",
   "execution_count": 3,
   "id": "b0f1b1a6",
   "metadata": {},
   "outputs": [
    {
     "name": "stdin",
     "output_type": "stream",
     "text": [
      "what is your email oweledavid@ymail.com\n"
     ]
    },
    {
     "name": "stdout",
     "output_type": "stream",
     "text": [
      "6\n",
      "oweled\n",
      "correct prifix\n"
     ]
    }
   ],
   "source": [
    "email= input (\"what is your email\")\n",
    "x =email.find (\"a\")\n",
    "print (x)\n",
    "if (x!= -1):\n",
    "    y= email [0:x]\n",
    "    print (y)\n",
    "    if y.isalnum():\n",
    "        print (\"correct prifix\")\n",
    "    else:\n",
    "        print (\"incorrect prifix\")\n",
    "        x2 = x+1\n",
    "        z = email[x2:]\n",
    "        print (z)\n",
    "        a = z.find(\".\")\n",
    "        \n",
    "else:\n",
    "    print (\"invalid\")"
   ]
  },
  {
   "cell_type": "code",
   "execution_count": null,
   "id": "2e9274b0",
   "metadata": {},
   "outputs": [],
   "source": []
  }
 ],
 "metadata": {
  "kernelspec": {
   "display_name": "Python 3 (ipykernel)",
   "language": "python",
   "name": "python3"
  },
  "language_info": {
   "codemirror_mode": {
    "name": "ipython",
    "version": 3
   },
   "file_extension": ".py",
   "mimetype": "text/x-python",
   "name": "python",
   "nbconvert_exporter": "python",
   "pygments_lexer": "ipython3",
   "version": "3.11.5"
  }
 },
 "nbformat": 4,
 "nbformat_minor": 5
}
