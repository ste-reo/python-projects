{
 "cells": [
  {
   "cell_type": "code",
   "execution_count": 19,
   "id": "2e027a46",
   "metadata": {},
   "outputs": [
    {
     "name": "stdout",
     "output_type": "stream",
     "text": [
      "11 + 10 = 21\n"
     ]
    }
   ],
   "source": [
    "def sumIt(a,b=10):\n",
    "    c= a+b\n",
    "    print (a,\"+\",b,\"=\",c)\n",
    "    \n",
    "    \n",
    "    \n",
    "\n",
    "sumIt(11)"
   ]
  },
  {
   "cell_type": "markdown",
   "id": "915eb636",
   "metadata": {},
   "source": [
    "you are the store keeper at a ware house"
   ]
  }
 ],
 "metadata": {
  "kernelspec": {
   "display_name": "Python 3 (ipykernel)",
   "language": "python",
   "name": "python3"
  },
  "language_info": {
   "codemirror_mode": {
    "name": "ipython",
    "version": 3
   },
   "file_extension": ".py",
   "mimetype": "text/x-python",
   "name": "python",
   "nbconvert_exporter": "python",
   "pygments_lexer": "ipython3",
   "version": "3.11.3"
  }
 },
 "nbformat": 4,
 "nbformat_minor": 5
}
