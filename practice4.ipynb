{
 "cells": [
  {
   "cell_type": "code",
   "execution_count": 15,
   "id": "0c15096f",
   "metadata": {},
   "outputs": [
    {
     "name": "stdout",
     "output_type": "stream",
     "text": [
      "enter a number: 12\n",
      "x is a greater than 10\n",
      "invalid input\n"
     ]
    }
   ],
   "source": [
    "x= input (\"enter a number: \")\n",
    "if int(x)>10 and x.isdigit() :\n",
    "    print(\"x is a greater than 10\")\n",
    "if x.isdigit and int(x)<10:\n",
    "    print(\"x is a less than 10\")\n",
    "if x.isdigit and int(x)==10:\n",
    "    print(\"x is 10\") \n",
    "else:\n",
    "    print(\"invalid input\")"
   ]
  },
  {
   "cell_type": "code",
   "execution_count": null,
   "id": "0a89f90d",
   "metadata": {},
   "outputs": [],
   "source": []
  }
 ],
 "metadata": {
  "kernelspec": {
   "display_name": "Python 3 (ipykernel)",
   "language": "python",
   "name": "python3"
  },
  "language_info": {
   "codemirror_mode": {
    "name": "ipython",
    "version": 3
   },
   "file_extension": ".py",
   "mimetype": "text/x-python",
   "name": "python",
   "nbconvert_exporter": "python",
   "pygments_lexer": "ipython3",
   "version": "3.11.5"
  }
 },
 "nbformat": 4,
 "nbformat_minor": 5
}
