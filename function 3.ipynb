{
 "cells": [
  {
   "cell_type": "code",
   "execution_count": 4,
   "id": "8c3ba0f3",
   "metadata": {},
   "outputs": [
    {
     "name": "stdout",
     "output_type": "stream",
     "text": [
      "(0, 0, 6942.571428571428)\n"
     ]
    }
   ],
   "source": [
    "def shapeArea(l,w,r):\n",
    "    pi= 22 / 7\n",
    "    ar= l * w\n",
    "    asq = l ** 2\n",
    "    ac = pi * (r**2)\n",
    "    return ar, asq, ac\n",
    "x = shapeArea(0,0,47)\n",
    "print (x)\n",
    "    "
   ]
  },
  {
   "cell_type": "code",
   "execution_count": 5,
   "id": "fde9b911",
   "metadata": {},
   "outputs": [
    {
     "name": "stdout",
     "output_type": "stream",
     "text": [
      "(0, 2209, 0.0)\n"
     ]
    }
   ],
   "source": [
    "def shapeArea(l=0,w=0,r=0):\n",
    "    pi= 22 / 7\n",
    "    ar= l * w\n",
    "    asq = l ** 2\n",
    "    ac = pi * (r**2)\n",
    "    return ar, asq, ac\n",
    "x = shapeArea(47)\n",
    "print (x)"
   ]
  },
  {
   "cell_type": "code",
   "execution_count": 7,
   "id": "c56cc25d",
   "metadata": {},
   "outputs": [
    {
     "name": "stdout",
     "output_type": "stream",
     "text": [
      "(5, 2.5)\n"
     ]
    }
   ],
   "source": [
    "def xfunct (a,b):\n",
    "    c=a+b\n",
    "    avg=c/2\n",
    "    return (c,avg)\n",
    "x= xfunct (2,3)\n",
    "print (x)"
   ]
  },
  {
   "cell_type": "code",
   "execution_count": 9,
   "id": "0fb612f9",
   "metadata": {},
   "outputs": [
    {
     "name": "stdout",
     "output_type": "stream",
     "text": [
      "(2, 3)\n",
      "<class 'tuple'>\n"
     ]
    }
   ],
   "source": [
    "#passing several values in a function\n",
    "def xfm (*a):\n",
    "    return a\n",
    "x= xfm (2,3)\n",
    "print (x)\n",
    "print (type(x))"
   ]
  },
  {
   "cell_type": "code",
   "execution_count": 13,
   "id": "4ac35f93",
   "metadata": {},
   "outputs": [
    {
     "name": "stdout",
     "output_type": "stream",
     "text": [
      "(2, 3)\n",
      "<class 'tuple'>\n"
     ]
    }
   ],
   "source": [
    "def xfm (*a):\n",
    "    return a\n",
    "x= xfm (2,3)\n",
    "print (x)\n",
    "print (type(x))"
   ]
  },
  {
   "cell_type": "code",
   "execution_count": 12,
   "id": "20b7f75e",
   "metadata": {},
   "outputs": [
    {
     "name": "stdout",
     "output_type": "stream",
     "text": [
      "(20, 9, 2, 5.0)\n",
      "<class 'tuple'>\n"
     ]
    }
   ],
   "source": [
    "def xfm (*a):\n",
    "    s=sum (a)\n",
    "    mx=max(a)\n",
    "    mn=min(a)\n",
    "    ave=s/len(a)\n",
    "    return (s,mx,mn,ave)\n",
    "x= xfm (2,3,6,9)\n",
    "print (x)\n",
    "print (type(x))"
   ]
  },
  {
   "cell_type": "code",
   "execution_count": 15,
   "id": "bc0ff721",
   "metadata": {},
   "outputs": [
    {
     "name": "stdout",
     "output_type": "stream",
     "text": [
      "{'a': 2, 'b': 3, 'c': 5}\n",
      "<class 'dict'>\n"
     ]
    }
   ],
   "source": [
    "def yfnc (**y):\n",
    "    return y\n",
    "y = yfnc (a=2, b=3, c=5)\n",
    "print (y)\n",
    "print (type(y))\n"
   ]
  },
  {
   "cell_type": "code",
   "execution_count": 21,
   "id": "ecc9e5d5",
   "metadata": {},
   "outputs": [
    {
     "name": "stdout",
     "output_type": "stream",
     "text": [
      "2\n",
      "2\n",
      "4\n"
     ]
    }
   ],
   "source": [
    "def rfxn():\n",
    "    a= int (input (\"\"))\n",
    "    b= int (input (\"\"))\n",
    "    c=a+b\n",
    "    print (c)\n",
    "rfxn()    \n"
   ]
  },
  {
   "cell_type": "code",
   "execution_count": 23,
   "id": "cc34f523",
   "metadata": {},
   "outputs": [],
   "source": [
    "victor = [1,3,4,5,6,7]\n"
   ]
  },
  {
   "cell_type": "code",
   "execution_count": null,
   "id": "716ae27e",
   "metadata": {},
   "outputs": [],
   "source": []
  }
 ],
 "metadata": {
  "kernelspec": {
   "display_name": "Python 3 (ipykernel)",
   "language": "python",
   "name": "python3"
  },
  "language_info": {
   "codemirror_mode": {
    "name": "ipython",
    "version": 3
   },
   "file_extension": ".py",
   "mimetype": "text/x-python",
   "name": "python",
   "nbconvert_exporter": "python",
   "pygments_lexer": "ipython3",
   "version": "3.11.3"
  }
 },
 "nbformat": 4,
 "nbformat_minor": 5
}
