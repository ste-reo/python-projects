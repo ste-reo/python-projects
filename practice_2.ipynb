{
 "cells": [
  {
   "cell_type": "code",
   "execution_count": 1,
   "id": "49194069-6930-4a91-af14-664d87653aca",
   "metadata": {},
   "outputs": [
    {
     "data": {
      "text/plain": [
       "9"
      ]
     },
     "execution_count": 1,
     "metadata": {},
     "output_type": "execute_result"
    }
   ],
   "source": [
    "2*7\n",
    "2+7"
   ]
  },
  {
   "cell_type": "code",
   "execution_count": 2,
   "id": "3726b8e7-bf12-4e14-850e-6b109e53ac34",
   "metadata": {},
   "outputs": [
    {
     "name": "stdout",
     "output_type": "stream",
     "text": [
      "9\n"
     ]
    }
   ],
   "source": [
    "print (9)"
   ]
  },
  {
   "cell_type": "code",
   "execution_count": 3,
   "id": "dd6137f9-eab4-4ff5-b33a-00e4f05b6d01",
   "metadata": {},
   "outputs": [
    {
     "name": "stdout",
     "output_type": "stream",
     "text": [
      "14 9\n"
     ]
    }
   ],
   "source": [
    "a=2*7\n",
    "b=2+7\n",
    "print(a,b)"
   ]
  },
  {
   "cell_type": "code",
   "execution_count": 4,
   "id": "ee618b30-d731-4ae8-aa21-8db655a5a29f",
   "metadata": {},
   "outputs": [
    {
     "name": "stdout",
     "output_type": "stream",
     "text": [
      "14 9\n"
     ]
    }
   ],
   "source": [
    "a,b =2*7, 2+7\n",
    "print (a,b)"
   ]
  },
  {
   "cell_type": "code",
   "execution_count": 11,
   "id": "c9bb4929-6fd1-47e0-877c-d141da385e82",
   "metadata": {},
   "outputs": [
    {
     "name": "stdout",
     "output_type": "stream",
     "text": [
      "<class 'int'>\n",
      "<class 'str'>\n"
     ]
    }
   ],
   "source": [
    "a= 1\n",
    "print(type (a))\n",
    "b=str(a)\n",
    "print(type (b))"
   ]
  },
  {
   "cell_type": "code",
   "execution_count": null,
   "id": "9df0dbfe-f870-4bee-8001-319a75c43987",
   "metadata": {},
   "outputs": [],
   "source": []
  },
  {
   "cell_type": "code",
   "execution_count": null,
   "id": "f2148d4e-1201-4308-b736-c6729b7367e2",
   "metadata": {},
   "outputs": [],
   "source": []
  }
 ],
 "metadata": {
  "kernelspec": {
   "display_name": "Python 3 (ipykernel)",
   "language": "python",
   "name": "python3"
  },
  "language_info": {
   "codemirror_mode": {
    "name": "ipython",
    "version": 3
   },
   "file_extension": ".py",
   "mimetype": "text/x-python",
   "name": "python",
   "nbconvert_exporter": "python",
   "pygments_lexer": "ipython3",
   "version": "3.11.5"
  }
 },
 "nbformat": 4,
 "nbformat_minor": 5
}
