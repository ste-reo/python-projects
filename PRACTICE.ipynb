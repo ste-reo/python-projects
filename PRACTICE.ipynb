{
 "cells": [
  {
   "cell_type": "code",
   "execution_count": 11,
   "id": "01627aa6",
   "metadata": {},
   "outputs": [
    {
     "name": "stdout",
     "output_type": "stream",
     "text": [
      "t\n",
      "the quick brown pig\n",
      "t\n",
      "e\n",
      "t\n",
      "h\n",
      "e\n",
      " \n",
      "q\n",
      "u\n",
      "i\n",
      "c\n",
      "k\n",
      " \n",
      "b\n",
      "r\n",
      "o\n",
      "w\n",
      "n\n",
      " \n",
      "p\n",
      "i\n",
      "g\n",
      "g"
     ]
    },
    {
     "data": {
      "text/plain": [
       "False"
      ]
     },
     "execution_count": 11,
     "metadata": {},
     "output_type": "execute_result"
    }
   ],
   "source": [
    "x = \"the lazy brown fox\"\n",
    "x1 = \"the quick brown pig\"\n",
    "print(x[0])\n",
    "print(x1)\n",
    "def shw(x):\n",
    "    print(x1[x])\n",
    "shw(0)\n",
    "print(x[2])\n",
    "for x in x1:\n",
    "    print(x)\n",
    "print (x, end= '')\n",
    "\"fox\" in x1"
   ]
  },
  {
   "cell_type": "code",
   "execution_count": null,
   "id": "de00462b",
   "metadata": {},
   "outputs": [],
   "source": []
  },
  {
   "cell_type": "code",
   "execution_count": null,
   "id": "6c45d0d7",
   "metadata": {},
   "outputs": [],
   "source": []
  }
 ],
 "metadata": {
  "kernelspec": {
   "display_name": "Python 3 (ipykernel)",
   "language": "python",
   "name": "python3"
  },
  "language_info": {
   "codemirror_mode": {
    "name": "ipython",
    "version": 3
   },
   "file_extension": ".py",
   "mimetype": "text/x-python",
   "name": "python",
   "nbconvert_exporter": "python",
   "pygments_lexer": "ipython3",
   "version": "3.11.5"
  }
 },
 "nbformat": 4,
 "nbformat_minor": 5
}
