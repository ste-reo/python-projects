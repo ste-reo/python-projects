{
 "cells": [
  {
   "cell_type": "code",
   "execution_count": 8,
   "id": "737db8f5",
   "metadata": {},
   "outputs": [
    {
     "name": "stdout",
     "output_type": "stream",
     "text": [
      "['milk', 'sugar', 'butter, eggs']\n",
      "['butter, eggs', 'sugar', 'milk']\n",
      "['butter, eggs', 'milk']\n",
      "['butter, eggs']\n"
     ]
    }
   ],
   "source": [
    "#creating lists using \n",
    "items=[\"milk\", \"sugar\", \"butter, eggs\"]\n",
    "print(items)\n",
    "#REVERSING ITEMS\n",
    "items.reverse ()\n",
    "print (items)\n",
    "#REMOVING SETS IN ITEM \n",
    "items.remove(\"sugar\") #using remove function\n",
    "print (items)\n",
    "items.pop() #using pop fuction, it removes from the last set\n",
    "print (items)\n"
   ]
  },
  {
   "cell_type": "code",
   "execution_count": 9,
   "id": "918c2e32",
   "metadata": {},
   "outputs": [
    {
     "ename": "AttributeError",
     "evalue": "'function' object has no attribute 'append'",
     "output_type": "error",
     "traceback": [
      "\u001b[1;31m---------------------------------------------------------------------------\u001b[0m",
      "\u001b[1;31mAttributeError\u001b[0m                            Traceback (most recent call last)",
      "Cell \u001b[1;32mIn[9], line 1\u001b[0m\n\u001b[1;32m----> 1\u001b[0m items \u001b[38;5;241m=\u001b[39m\u001b[38;5;28;43minput\u001b[39;49m\u001b[38;5;241;43m.\u001b[39;49m\u001b[43mappend\u001b[49m(\u001b[38;5;124m\"\u001b[39m\u001b[38;5;124menter your items\u001b[39m\u001b[38;5;124m\"\u001b[39m)\n",
      "\u001b[1;31mAttributeError\u001b[0m: 'function' object has no attribute 'append'"
     ]
    }
   ],
   "source": [
    "items =input.(\"enter your items\")\n",
    "print(\"\")\n"
   ]
  },
  {
   "cell_type": "code",
   "execution_count": null,
   "id": "8f91a6d7",
   "metadata": {},
   "outputs": [],
   "source": []
  }
 ],
 "metadata": {
  "kernelspec": {
   "display_name": "Python 3 (ipykernel)",
   "language": "python",
   "name": "python3"
  },
  "language_info": {
   "codemirror_mode": {
    "name": "ipython",
    "version": 3
   },
   "file_extension": ".py",
   "mimetype": "text/x-python",
   "name": "python",
   "nbconvert_exporter": "python",
   "pygments_lexer": "ipython3",
   "version": "3.11.5"
  }
 },
 "nbformat": 4,
 "nbformat_minor": 5
}
