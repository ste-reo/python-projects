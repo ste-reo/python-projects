{
 "cells": [
  {
   "cell_type": "code",
   "execution_count": null,
   "id": "813d631a",
   "metadata": {},
   "outputs": [],
   "source": [
    "import ramdom\n",
    "def generate_validation_code():\\\n",
    "    \"\"Generate a random 9-digit validation code.\"\"\n",
    "    return random .randit (100000000,999999999)\n",
    "\n",
    "def registers():\n",
    "    \"\"Registers a new user collecting their information\"\"\n",
    "    first_name = input(\"Enter your name\")\n",
    "    last_name = input (\"Enter your last \")\n",
    "    email = input (\"Enter your email\")\n",
    "    p`"
   ]
  }
 ],
 "metadata": {
  "kernelspec": {
   "display_name": "Python 3 (ipykernel)",
   "language": "python",
   "name": "python3"
  },
  "language_info": {
   "codemirror_mode": {
    "name": "ipython",
    "version": 3
   },
   "file_extension": ".py",
   "mimetype": "text/x-python",
   "name": "python",
   "nbconvert_exporter": "python",
   "pygments_lexer": "ipython3",
   "version": "3.11.5"
  }
 },
 "nbformat": 4,
 "nbformat_minor": 5
}
