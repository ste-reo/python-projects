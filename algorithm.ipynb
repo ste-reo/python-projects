{
 "cells": [
  {
   "cell_type": "code",
   "execution_count": 7,
   "id": "40991cf3",
   "metadata": {},
   "outputs": [
    {
     "name": "stdout",
     "output_type": "stream",
     "text": [
      "assuming you have utensils, cooking gas, water and noodles\n",
      "what amount of indomie do you want to cook1\n"
     ]
    }
   ],
   "source": [
    "# Take input for the first number\n",
    "num1 = input(\"Enter the first number: \")\n",
    "\n",
    "# Take input for the second number\n",
    "num2 = input(\"Enter the second number: \")\n",
    "\n",
    "# Convert the input strings to integers\n",
    "num1 = int(num1)\n",
    "num2 = int(num2)\n",
    "\n",
    "# Add the numbers\n",
    "result = num1 + num2\n",
    "\n",
    "# Print the result\n",
    "print(\"The sum of\", num1, \"and\", num2, \"is\", result)\n",
    "#what is algorithm, why do we write them. how do we write them. in algorithm what is sudo code, flow chat in algorithm.\n",
    "#ann algorithm that \n"
   ]
  },
  {
   "cell_type": "code",
   "execution_count": null,
   "id": "26988974",
   "metadata": {},
   "outputs": [],
   "source": []
  },
  {
   "cell_type": "code",
   "execution_count": null,
   "id": "e0ece427",
   "metadata": {},
   "outputs": [],
   "source": []
  }
 ],
 "metadata": {
  "kernelspec": {
   "display_name": "Python 3 (ipykernel)",
   "language": "python",
   "name": "python3"
  },
  "language_info": {
   "codemirror_mode": {
    "name": "ipython",
    "version": 3
   },
   "file_extension": ".py",
   "mimetype": "text/x-python",
   "name": "python",
   "nbconvert_exporter": "python",
   "pygments_lexer": "ipython3",
   "version": "3.11.5"
  }
 },
 "nbformat": 4,
 "nbformat_minor": 5
}
